{
  "nbformat": 4,
  "nbformat_minor": 0,
  "metadata": {
    "colab": {
      "provenance": []
    },
    "kernelspec": {
      "name": "python3",
      "display_name": "Python 3"
    },
    "language_info": {
      "name": "python"
    }
  },
  "cells": [
    {
      "cell_type": "code",
      "execution_count": 9,
      "metadata": {
        "colab": {
          "base_uri": "https://localhost:8080/"
        },
        "id": "XlDwxoxbPdj7",
        "outputId": "7b9b1170-991f-4481-d408-799bdbcaaafa"
      },
      "outputs": [
        {
          "output_type": "stream",
          "name": "stdout",
          "text": [
            "行列の積:\n",
            "[[ 4  5  6  7]\n",
            " [12 17 22 27]\n",
            " [20 29 38 47]]\n",
            "行列の最大値: 47\n"
          ]
        }
      ],
      "source": [
        "#Step1.NumPyをインポートするコードを記述する\n",
        "import numpy as np\n",
        "#Step2.AとBの行列を格納する多次元配列のコードを記述する\n",
        "A = np.array([[0, 1],\n",
        "              [2, 3],\n",
        "              [4, 5]])\n",
        "B = np.array([[0, 1, 2, 3],\n",
        "              [4, 5, 6, 7]])\n",
        "#Step3.行列の積の計算をするコードを記述する\n",
        "C = np.dot(A, B)\n",
        "#Step4.Step3.の計算結果を表示するコードを記述する\n",
        "print(\"行列の積:\")\n",
        "print(C)\n",
        "#Step5.行列の要素の最大値を求めるコードを記述する\n",
        "max_value = np.max(C)\n",
        "print(\"行列の最大値:\", max_value)"
      ]
    }
  ]
}