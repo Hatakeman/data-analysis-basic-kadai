{
  "nbformat": 4,
  "nbformat_minor": 0,
  "metadata": {
    "colab": {
      "provenance": []
    },
    "kernelspec": {
      "name": "python3",
      "display_name": "Python 3"
    },
    "language_info": {
      "name": "python"
    }
  },
  "cells": [
    {
      "cell_type": "code",
      "execution_count": 8,
      "metadata": {
        "colab": {
          "base_uri": "https://localhost:8080/"
        },
        "id": "XlDwxoxbPdj7",
        "outputId": "4d66d6cb-a0ab-4b9a-b305-98c414b96189"
      },
      "outputs": [
        {
          "output_type": "stream",
          "name": "stdout",
          "text": [
            "行列の積:\n",
            "[[19 22]\n",
            " [43 50]]\n",
            "行列の最大値: 50\n"
          ]
        }
      ],
      "source": [
        "#Step1.NumPyをインポートするコードを記述する\n",
        "import numpy as np\n",
        "#Step2.AとBの行列を格納する多次元配列のコードを記述する\n",
        "A = np.array([[1, 2], [3, 4]])\n",
        "B = np.array([[5, 6], [7, 8]])\n",
        "#Step3.行列の積の計算をするコードを記述する\n",
        "C = np.dot(A, B)\n",
        "#Step4.Step3.の計算結果を表示するコードを記述する\n",
        "print(\"行列の積:\")\n",
        "print(C)\n",
        "#Step5.行列の要素の最大値を求めるコードを記述する\n",
        "max_value = np.max(C)\n",
        "print(\"行列の最大値:\", max_value)"
      ]
    }
  ]
}