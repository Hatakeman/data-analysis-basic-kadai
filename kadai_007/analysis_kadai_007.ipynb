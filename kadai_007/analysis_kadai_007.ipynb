{
  "nbformat": 4,
  "nbformat_minor": 0,
  "metadata": {
    "colab": {
      "provenance": []
    },
    "kernelspec": {
      "name": "python3",
      "display_name": "Python 3"
    },
    "language_info": {
      "name": "python"
    }
  },
  "cells": [
    {
      "cell_type": "code",
      "source": [
        "#japanize_matplotlibのインストール\n",
        "!pip install japanize-matplotlib"
      ],
      "metadata": {
        "id": "2uAvJrerhpQ2",
        "outputId": "2e024b01-1094-4722-d76b-2b43df748f13",
        "colab": {
          "base_uri": "https://localhost:8080/"
        }
      },
      "execution_count": 2,
      "outputs": [
        {
          "output_type": "stream",
          "name": "stdout",
          "text": [
            "Collecting japanize-matplotlib\n",
            "  Downloading japanize-matplotlib-1.1.3.tar.gz (4.1 MB)\n",
            "\u001b[2K     \u001b[90m━━━━━━━━━━━━━━━━━━━━━━━━━━━━━━━━━━━━━━━━\u001b[0m \u001b[32m4.1/4.1 MB\u001b[0m \u001b[31m28.3 MB/s\u001b[0m eta \u001b[36m0:00:00\u001b[0m\n",
            "\u001b[?25h  Preparing metadata (setup.py) ... \u001b[?25l\u001b[?25hdone\n",
            "Requirement already satisfied: matplotlib in /usr/local/lib/python3.10/dist-packages (from japanize-matplotlib) (3.8.0)\n",
            "Requirement already satisfied: contourpy>=1.0.1 in /usr/local/lib/python3.10/dist-packages (from matplotlib->japanize-matplotlib) (1.3.1)\n",
            "Requirement already satisfied: cycler>=0.10 in /usr/local/lib/python3.10/dist-packages (from matplotlib->japanize-matplotlib) (0.12.1)\n",
            "Requirement already satisfied: fonttools>=4.22.0 in /usr/local/lib/python3.10/dist-packages (from matplotlib->japanize-matplotlib) (4.55.3)\n",
            "Requirement already satisfied: kiwisolver>=1.0.1 in /usr/local/lib/python3.10/dist-packages (from matplotlib->japanize-matplotlib) (1.4.7)\n",
            "Requirement already satisfied: numpy<2,>=1.21 in /usr/local/lib/python3.10/dist-packages (from matplotlib->japanize-matplotlib) (1.26.4)\n",
            "Requirement already satisfied: packaging>=20.0 in /usr/local/lib/python3.10/dist-packages (from matplotlib->japanize-matplotlib) (24.2)\n",
            "Requirement already satisfied: pillow>=6.2.0 in /usr/local/lib/python3.10/dist-packages (from matplotlib->japanize-matplotlib) (11.0.0)\n",
            "Requirement already satisfied: pyparsing>=2.3.1 in /usr/local/lib/python3.10/dist-packages (from matplotlib->japanize-matplotlib) (3.2.0)\n",
            "Requirement already satisfied: python-dateutil>=2.7 in /usr/local/lib/python3.10/dist-packages (from matplotlib->japanize-matplotlib) (2.8.2)\n",
            "Requirement already satisfied: six>=1.5 in /usr/local/lib/python3.10/dist-packages (from python-dateutil>=2.7->matplotlib->japanize-matplotlib) (1.17.0)\n",
            "Building wheels for collected packages: japanize-matplotlib\n",
            "  Building wheel for japanize-matplotlib (setup.py) ... \u001b[?25l\u001b[?25hdone\n",
            "  Created wheel for japanize-matplotlib: filename=japanize_matplotlib-1.1.3-py3-none-any.whl size=4120257 sha256=28322b8c3cbe53039b436577819215970eb9c7dd35273e9daf263715bdcc21be\n",
            "  Stored in directory: /root/.cache/pip/wheels/61/7a/6b/df1f79be9c59862525070e157e62b08eab8ece27c1b68fbb94\n",
            "Successfully built japanize-matplotlib\n",
            "Installing collected packages: japanize-matplotlib\n",
            "Successfully installed japanize-matplotlib-1.1.3\n"
          ]
        }
      ]
    },
    {
      "cell_type": "code",
      "execution_count": 18,
      "metadata": {
        "colab": {
          "base_uri": "https://localhost:8080/",
          "height": 955
        },
        "id": "56iRwveJFApB",
        "outputId": "d42ed142-7c49-4015-d203-16e4929e5d6f"
      },
      "outputs": [
        {
          "output_type": "display_data",
          "data": {
            "text/plain": [
              "<Figure size 640x480 with 1 Axes>"
            ],
            "image/png": "[encoded data removed]"
          },
          "metadata": {}
        },
        {
          "output_type": "stream",
          "name": "stdout",
          "text": [
            "商品番号ごとの在庫数:\n",
            "商品番号\n",
            "1QJFO8QY    890\n",
            "2HSTCDWM    535\n",
            "48XMJXKO    270\n",
            "8T7D5DQA    660\n",
            "MESUDVWQ    395\n",
            "QRMOGNUU    725\n",
            "S6RE8W6X    430\n",
            "X0ZE2ZMY    360\n",
            "YY4HAAZR    425\n",
            "Z4WOOIYV    465\n",
            "Name: 在庫, dtype: int64\n",
            "\n",
            "商品番号ごとの在庫基本統計量:\n",
            "          count       mean        std  min    25%   50%    75%   max\n",
            "商品番号                                                                \n",
            "1QJFO8QY   32.0  27.812500  16.111381  0.0  13.75  27.5  40.00  50.0\n",
            "2HSTCDWM   20.0  26.750000  15.067829  5.0  10.00  30.0  40.00  50.0\n",
            "48XMJXKO   10.0  27.000000  18.737959  0.0  10.00  27.5  42.50  50.0\n",
            "8T7D5DQA   21.0  31.428571  16.743869  0.0  20.00  35.0  45.00  50.0\n",
            "MESUDVWQ   17.0  23.235294  15.904125  0.0  10.00  25.0  40.00  45.0\n",
            "QRMOGNUU   27.0  26.851852  17.821128  0.0  10.00  20.0  45.00  50.0\n",
            "S6RE8W6X   20.0  21.500000  12.680279  0.0  15.00  22.5  25.00  50.0\n",
            "X0ZE2ZMY   14.0  25.714286  12.224997  0.0  21.25  25.0  30.00  45.0\n",
            "YY4HAAZR   17.0  25.000000  17.677670  0.0  10.00  20.0  40.00  50.0\n",
            "Z4WOOIYV   22.0  21.136364  15.578665  0.0   6.25  22.5  33.75  50.0\n"
          ]
        }
      ],
      "source": [
        "# Step1必要なライブラリをインポートする。\n",
        "# matplotlib.pyplot\n",
        "import matplotlib.pyplot as plt\n",
        "# pandas\n",
        "import pandas as pd\n",
        "# japanize_matplotlib\n",
        "import japanize_matplotlib\n",
        "\n",
        "# 7.4章と同様のデータを呼び出す\n",
        "df = pd.read_csv(\"sample_pandas_6.csv\") #マージ前のデータ\"sample_pandas_6.csv\"の呼び出し\n",
        "category_df = pd.read_csv('category.csv') #\"category.csv\"の呼び出し\n",
        "df = pd.merge(df, category_df[['商品番号', 'カテゴリー']], how='inner', on='商品番号') #データをマージ\n",
        "df\n",
        "\n",
        "# Step2カテゴリー列の要素(弁当・デザートなど)のユニークな出現頻度をカウントするメソッドと、そのメソッドの実行結果を棒グラフ化するメソッドを組み合わせたコードを記述する。\n",
        "\n",
        "# '在庫'列のユニークな出現頻度をカウント\n",
        "inventory_counts = df['在庫'].value_counts()  # 結果を変数に格納\n",
        "\n",
        "# Seriesのplotメソッドを使用して棒グラフを作成\n",
        "inventory_counts.plot(kind='bar', title='在庫数の分布')  # ここでplotメソッドを呼び出す\n",
        "plt.xlabel('在庫数')  # x軸ラベル\n",
        "plt.ylabel('出現頻度')  # y軸ラベル\n",
        "\n",
        "# Srep3グラフを表示\n",
        "plt.show()\n",
        "\n",
        "# Step4ある基準列(商品番号列)ごとに要素をグループにまとめサブ列を集計するメソッドと、基本統計量を算出するメソッドを組み合わせたコードを記載する\n",
        "# 商品番号ごとに在庫数を集計する（在庫数合計）\n",
        "stock_sum = df.groupby('商品番号')['在庫'].sum()  # 商品番号ごとの在庫数合計を計算\n",
        "print(\"商品番号ごとの在庫数:\")\n",
        "print(stock_sum)\n",
        "\n",
        "# 商品番号ごとの在庫数の基本統計量を算出する\n",
        "stock_stats = df.groupby('商品番号')['在庫'].describe()  # 基本統計量を算出\n",
        "print(\"\\n商品番号ごとの在庫基本統計量:\")\n",
        "print(stock_stats)\n"
      ]
    }
  ]
}