{
  "nbformat": 4,
  "nbformat_minor": 0,
  "metadata": {
    "colab": {
      "provenance": []
    },
    "kernelspec": {
      "name": "python3",
      "display_name": "Python 3"
    },
    "language_info": {
      "name": "python"
    }
  },
  "cells": [
    {
      "cell_type": "code",
      "execution_count": 16,
      "metadata": {
        "colab": {
          "base_uri": "https://localhost:8080/"
        },
        "id": "f0v263AXQv3t",
        "outputId": "951d1b57-1e66-4230-aac4-01dfc402b477"
      },
      "outputs": [
        {
          "output_type": "stream",
          "name": "stdout",
          "text": [
            "(178, 13) (124, 13) (54, 13) (178,) (124,) (54,)\n"
          ]
        },
        {
          "output_type": "execute_result",
          "data": {
            "text/plain": [
              "0.9629629629629629"
            ]
          },
          "metadata": {},
          "execution_count": 16
        }
      ],
      "source": [
        "# scikit-learnを呼び出す\n",
        "from sklearn.datasets import load_wine\n",
        "\n",
        "# sklearnのデータセットを呼び出す（8章参考）\n",
        "dataset = load_wine()\n",
        "import pandas as pd #データセットをわかりやすく表にする\n",
        "df = pd.DataFrame(data=dataset.data, columns=dataset.feature_names)\n",
        "df.head()\n",
        "\n",
        "# サンプルデータの分割\n",
        "X = dataset.data\n",
        "y = dataset.target\n",
        "from sklearn.model_selection import train_test_split\n",
        "train_test_split(X, y, test_size=0.3, random_state=5)\n",
        "X_train, X_test, y_train, y_test = train_test_split(X, y, test_size=0.3, random_state=5)\n",
        "print(X.shape, X_train.shape, X_test.shape, y.shape, y_train.shape, y_test.shape)\n",
        "\n",
        "# ランダムフォレストの呼び出し\n",
        "from sklearn.ensemble import RandomForestClassifier\n",
        "# モデルの構築\n",
        "rf_model = RandomForestClassifier(random_state=3)\n",
        "\n",
        "#予測モデルの学習+評価を行う\n",
        "rf_model.fit(X_train, y_train)\n",
        "y_pred = rf_model.predict(X_test)\n",
        "\n",
        "#ランダムフォレストのスコア表示\n",
        "from sklearn.metrics import accuracy_score\n",
        "accuracy_score(y_test, y_pred)\n",
        "rf_model.score(X_test, y_test)\n"
      ]
    }
  ]
}